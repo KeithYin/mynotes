{
 "cells": [
  {
   "cell_type": "markdown",
   "metadata": {},
   "source": [
    "# chapter-02 Probability\n",
    "> Probability theory is nothing but common sense reduced to calculation\n",
    "\n",
    "* probability 的两种解释方式\n",
    "    * frequentist interpretation: probabilities represent long run frequencies of events (即: 实验很多次,事件发生的概率)\n",
    "    * Bayesian interpretation: is used to quantify our **uncertainty** about something. 表示的是信息(不确定性), 而不是多次实验\n",
    "    * 频率派的解释是  多次实验的结果(实验的解释, 如果不实验, 此解释无用)\n",
    "    * 贝叶斯派的解释是 下次实验,出现哪个事件的概率\n",
    "\n",
    "### 概率的几个重要性质\n",
    "**union of two events**\n",
    "$$p(A or B) = p(A) + p(B) - p(A and B)$$\n",
    "\n",
    "**joint probabilities**\n",
    "p(A, B) = p(A and B) = p(B|A)p(A)\n",
    "\n",
    "\n",
    "### 几个重要分布\n"
   ]
  }
 ],
 "metadata": {
  "kernelspec": {
   "display_name": "Python 3",
   "language": "python",
   "name": "python3"
  },
  "language_info": {
   "codemirror_mode": {
    "name": "ipython",
    "version": 3
   },
   "file_extension": ".py",
   "mimetype": "text/x-python",
   "name": "python",
   "nbconvert_exporter": "python",
   "pygments_lexer": "ipython3",
   "version": "3.7.3"
  }
 },
 "nbformat": 4,
 "nbformat_minor": 2
}
