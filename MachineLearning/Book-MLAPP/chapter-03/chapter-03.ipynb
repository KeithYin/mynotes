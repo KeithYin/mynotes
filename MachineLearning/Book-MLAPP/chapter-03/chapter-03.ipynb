{
 "cells": [
  {
   "cell_type": "markdown",
   "metadata": {},
   "source": [
    "# Generative Models for Discrete Data\n",
    "\n",
    "* 生成模型\n",
    "    * 对数据的生成建模. \n",
    "    * 对于监督学习, 数据一般是 $\\{(\\mathbf x, \\mathbf y), ...\\}$, 无监督建模为 $p(\\mathbf x | \\mathbf y)$\n",
    "    * 对于无监督学习, 数据一般是 $\\{\\mathbf x\\}$, 无监督 建模为 $p(\\mathbf x)$\n",
    "\n",
    "* 模型\n",
    "    * 建模 $p(\\mathbf x | y=c, \\mathbf \\theta)$ 和 $p(y=c|\\mathbf \\theta)$. 分类的结果可以通过贝叶斯公式算出来\n",
    "    * 如果考虑神经网络的话, $p(\\mathbf x | y=c, \\mathbf \\theta)$ 和 $p(y=c|\\mathbf \\theta)$ 也都可以通过神经网络来拟合\n",
    "$$\n",
    "p(y=c|\\mathbf x, \\mathbf \\theta) \\propto p(\\mathbf x | y=c, \\mathbf \\theta) p(y=c|\\mathbf \\theta)\n",
    "$$\n",
    "\n",
    "### 机器学习三大步骤\n",
    "\n",
    "* 监督学习的生成模型建模\n",
    "$$\n",
    "p(\\bar x\\in C | D) = \\sum_h p(y=c|\\bar x, h)p(h|D)\n",
    "$$\n",
    "$$\n",
    "p(h|D) = \\frac{p(D|h)p(h)}{\\sum_{h'\\in \\mathcal H}p(h')p(D|h')}\n",
    "$$\n",
    "    * 其中D为训练数据集, h 为模型(参数)\n",
    "    * 生成模型为数据的生成建模, ie $p(D|h)p(h)$\n",
    "\n",
    "* 训练: 模型的训练即是求 $h$ 的后验分布, 或者计算MAP\n",
    "    * 大部分情况下 $p(x|h)$ 会建模成一个分布, 根据实际情况而定. (高斯, 伯努利, 类别 分布), 其中模型的参数和 h 相关 (由h计算得到)\n",
    "    * $p(h)$ 为模型参数的先验\n",
    "* 预测\n",
    "    * 如果按照 MAP 进行学习, 那么能得到使得后验概率最高的 $h$, 使用此 $h$ 计算 $p(y=c|\\bar x, h)$\n",
    "    \n",
    "### NBC (朴素贝叶斯分类器)\n",
    "* 监督学习的 生成模型建模联合分布 $p(x, y)$, 一般这种情况都是建模 $p(x|y), p(y)$, \n",
    "    * $p(\\mathbf x_i| y_i)= \\prod_{j}\\mathbf p(x_{i,j}|y_i)$, 其中 $p(x_{i,j}|y_i)$为类别分布, $p(y_i)$ 为类别分布\n",
    "$$\n",
    "p(\\mathbf x_i, y_i | \\mathbf \\theta) = p(y_i|\\mathbf \\pi)p(\\mathbf x_{i}|\\mathbf \\theta)\n",
    "$$\n",
    "\n",
    "* 参数学习: MLE, MAP\n",
    "\n",
    "如果使用MLE进行参数估计的话, 概率模型可以写成以下形式, 然后使用极大似然估计求得 $\\mathbf \\theta$ 得值即可\n",
    "$$\n",
    "p(x,y; \\mathbf \\theta) = p(x|y; \\mathbf \\theta) p(y;\\mathbf \\theta)\n",
    "$$\n",
    "\n",
    "如果使用 MAP 进行参数估计得话, 概率模型就变成了以下形式, 然后使用 MAP 求得\n",
    "\n",
    "$$\n",
    "p(\\mathbf \\theta | x, y) \\sim p(x, y | \\mathbf \\theta) p(\\mathbf \\theta) = p(x|y, \\mathbf \\theta) p(y|\\mathbf \\theta)p(\\mathbf \\theta)\n",
    "$$\n",
    "\n",
    "* 在预测的时候计算(MAP), \n",
    "    * 但是由于分子对于所有的 类别的求和,  所以在 预测的时候计算 所有的 $p(y'|x)$ 然后取最大就行了.\n",
    "    * 如果预测的时候 MAP 不好求的话, 可以考虑使用 VI 哦\n",
    "$$\n",
    "p(y|x) = \\frac{p(x|y)p(y)}{\\sum_{y'}p(x|y')p(y')}\n",
    "$$\n"
   ]
  }
 ],
 "metadata": {
  "kernelspec": {
   "display_name": "Python 3",
   "language": "python",
   "name": "python3"
  },
  "language_info": {
   "codemirror_mode": {
    "name": "ipython",
    "version": 3
   },
   "file_extension": ".py",
   "mimetype": "text/x-python",
   "name": "python",
   "nbconvert_exporter": "python",
   "pygments_lexer": "ipython3",
   "version": "3.7.3"
  }
 },
 "nbformat": 4,
 "nbformat_minor": 2
}
