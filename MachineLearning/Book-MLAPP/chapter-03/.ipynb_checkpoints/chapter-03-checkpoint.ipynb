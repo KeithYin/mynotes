{
 "cells": [
  {
   "cell_type": "markdown",
   "metadata": {},
   "source": [
    "# Generative Models for Discrete Data\n",
    "\n",
    "* 生成模型\n",
    "    * 对数据的生成建模. \n",
    "    * 对于监督学习, 数据一般是 $\\{(\\mathbf x, \\mathbf y), ...\\}$, 无监督建模为 $p(\\mathbf x | \\mathbf y)$\n",
    "    * 对于无监督学习, 数据一般是 $\\{\\mathbf x\\}$, 无监督 建模为 $p(\\mathbf x)$\n",
    "    * "
   ]
  }
 ],
 "metadata": {
  "kernelspec": {
   "display_name": "Python 3",
   "language": "python",
   "name": "python3"
  },
  "language_info": {
   "codemirror_mode": {
    "name": "ipython",
    "version": 3
   },
   "file_extension": ".py",
   "mimetype": "text/x-python",
   "name": "python",
   "nbconvert_exporter": "python",
   "pygments_lexer": "ipython3",
   "version": "3.7.3"
  }
 },
 "nbformat": 4,
 "nbformat_minor": 2
}
